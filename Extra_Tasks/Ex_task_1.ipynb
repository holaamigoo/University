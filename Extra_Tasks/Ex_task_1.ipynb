{
  "nbformat": 4,
  "nbformat_minor": 0,
  "metadata": {
    "colab": {
      "provenance": [],
      "authorship_tag": "ABX9TyPv0JSaIu+BQBGxgf92D8pO",
      "include_colab_link": true
    },
    "kernelspec": {
      "name": "python3",
      "display_name": "Python 3"
    },
    "language_info": {
      "name": "python"
    }
  },
  "cells": [
    {
      "cell_type": "markdown",
      "metadata": {
        "id": "view-in-github",
        "colab_type": "text"
      },
      "source": [
        "<a href=\"https://colab.research.google.com/github/holaamigoo/University/blob/main/Extra_Tasks/Ex_task_1.ipynb\" target=\"_parent\"><img src=\"https://colab.research.google.com/assets/colab-badge.svg\" alt=\"Open In Colab\"/></a>"
      ]
    },
    {
      "cell_type": "code",
      "execution_count": null,
      "metadata": {
        "id": "lX0p1sMzHvmh"
      },
      "outputs": [],
      "source": [
        "import random\n",
        "\n",
        "rn = random.randrange(1, 100)\n",
        "rb = random.randint(1, 100) # до 100 включительно\n",
        "rm = random.choice([1, 'fg', None]) #возвращ ранд знач из коллекции\n"
      ]
    },
    {
      "cell_type": "code",
      "source": [
        "import random\n",
        "\n",
        "good_answer = random.randint(1, 100)\n",
        "print(f\"Компьютер загдал число! ({good_answer})\")\n",
        "count = 0\n",
        "while True:\n",
        "  user_answer = input('Введите число: ')\n",
        "\n",
        "  if user_answer.lower() == \"выход\":\n",
        "    break\n",
        "\n",
        "  elif not(user_answer.isdigit()):\n",
        "    print(\"Ошибка!\")\n",
        "    continue #переход на следующую итерации бесконечного цикла\n",
        "\n",
        "  user_answer = int(user_answer)\n",
        "  count +=1\n",
        "  if user_answer == good_answer:\n",
        "    print(f\"Поздравляем! Вы угадали число за {count} попыток!\")\n",
        "    break\n",
        "  elif user_answer < good_answer:\n",
        "    print(\"Ваше число меньше!\")\n",
        "  elif user_answer > good_answer:\n",
        "    print(\"Ваше число больше!\")\n"
      ],
      "metadata": {
        "colab": {
          "base_uri": "https://localhost:8080/"
        },
        "id": "5pdaHtmkIaH7",
        "outputId": "1bfa29a2-9686-4db8-8739-26747a1f3431"
      },
      "execution_count": null,
      "outputs": [
        {
          "output_type": "stream",
          "name": "stdout",
          "text": [
            "Компьютер загдал число! (76)\n",
            "Введите число: 75\n",
            "Ваше число меньше!\n",
            "Введите число: 77\n",
            "Ваше число больше!\n",
            "Введите число: dfh\n",
            "Ошибка! Введите число: \n",
            "Введите число: 45\n",
            "Ваше число меньше!\n",
            "Введите число: 76\n",
            "Поздравляем! Вы угадали число за 5 попыток!\n"
          ]
        }
      ]
    }
  ]
}