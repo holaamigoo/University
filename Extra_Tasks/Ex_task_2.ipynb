{
  "nbformat": 4,
  "nbformat_minor": 0,
  "metadata": {
    "colab": {
      "provenance": [],
      "authorship_tag": "ABX9TyPZQzQNSJPdRWU7rzZHsbd9",
      "include_colab_link": true
    },
    "kernelspec": {
      "name": "python3",
      "display_name": "Python 3"
    },
    "language_info": {
      "name": "python"
    }
  },
  "cells": [
    {
      "cell_type": "markdown",
      "metadata": {
        "id": "view-in-github",
        "colab_type": "text"
      },
      "source": [
        "<a href=\"https://colab.research.google.com/github/holaamigoo/University/blob/main/Extra_Tasks/Ex_task_2.ipynb\" target=\"_parent\"><img src=\"https://colab.research.google.com/assets/colab-badge.svg\" alt=\"Open In Colab\"/></a>"
      ]
    },
    {
      "cell_type": "code",
      "source": [
        "def add_contact(name_input, number_input):\n",
        "  name_input = name_input.title()\n",
        "  number_input = \"+7\" + number_input\n",
        "  list_of_contacts[name_input] = number_input\n",
        "\n",
        "def delete_contact(name_input):\n",
        "  name_input = name_input.title()\n",
        "  list_of_contacts.pop(name_input)\n",
        "\n",
        "def open_phone_book():\n",
        "  for k, v in list_of_contacts.items():\n",
        "        print(k, v)\n",
        "\n",
        "def edit_contact(name_input, number_input):\n",
        "  name_input = name_input.title()\n",
        "  number_input = \"+7\" + number_input\n",
        "  list_of_contacts[name_input] = number_input\n",
        "\n",
        "\n",
        "\n",
        "list_of_contacts = {}\n",
        "\n",
        "def main():\n",
        "  print(\"Выберите функцию:\\n\", \"1. Создать контакт\", \"2. Удалить контакт\",\n",
        "        \"3. Показать список контактов\", \"4. Изменить номер\", \"5. Выход\\n\", sep=\"\\n\")\n",
        "  while True:\n",
        "    command = input(\"Введите номер функции:\")\n",
        "    match command:\n",
        "      case \"1\":\n",
        "        name_input = input(\"Введите название для контакта:\")\n",
        "        number_input = input(\"Введите номер телефона:\")\n",
        "        add_contact(name_input, number_input)\n",
        "        print(\"Контакт успешно добавлен!\")\n",
        "      case \"2\":\n",
        "        name_input = input(\"Введите имя контакта, который хотите удалить:\")\n",
        "        delete_contact(name_input)\n",
        "        print(\"Контакт удален\")\n",
        "      case \"3\":\n",
        "        print(\"Список контактов:\")\n",
        "        open_phone_book()\n",
        "      case \"4\":\n",
        "        name_input = input(\"Введите название для контакта:\")\n",
        "        number_input = input(\"Введите номер телефона:\")\n",
        "        edit_contact(name_input, number_input)\n",
        "        print(\"Контакт успешно изменен!\")\n",
        "      case \"5\":\n",
        "        print(\"Выход из списка контактов!\")\n",
        "        break\n",
        "\n",
        "main()\n",
        "\n"
      ],
      "metadata": {
        "colab": {
          "base_uri": "https://localhost:8080/"
        },
        "id": "HigxpT1QCyJz",
        "outputId": "875d57a2-e7a7-441d-99f1-34f86b5cb1fa"
      },
      "execution_count": 3,
      "outputs": [
        {
          "output_type": "stream",
          "name": "stdout",
          "text": [
            "Выберите функцию:\n",
            "\n",
            "1. Создать контакт\n",
            "2. Удалить контакт\n",
            "3. Показать список контактов\n",
            "4. Изменить номер\n",
            "5. Выход\n",
            "\n",
            "Введите номер функции:1\n",
            "Введите название для контакта:Катя\n",
            "Введите номер телефона:9160022768\n",
            "Контакт успешно добавлен!\n",
            "Введите номер функции:1\n",
            "Введите название для контакта:Стас Михайлов\n",
            "Введите номер телефона:9151234567\n",
            "Контакт успешно добавлен!\n",
            "Введите номер функции:3\n",
            "Список контактов:\n",
            "Катя +79160022768\n",
            "Стас Михайлов +79151234567\n",
            "Введите номер функции:4\n",
            "Введите название для контакта:Катя\n",
            "Введите номер телефона:4991508769\n",
            "Контакт успешно изменен!\n",
            "Введите номер функции:2\n",
            "Введите имя контакта, который хотите удалить:Стас Михайлов\n",
            "Контакт удален\n",
            "Введите номер функции:3\n",
            "Список контактов:\n",
            "Катя +74991508769\n",
            "Введите номер функции:5\n",
            "Выход из списка контактов!\n"
          ]
        }
      ]
    },
    {
      "cell_type": "code",
      "source": [],
      "metadata": {
        "id": "4Xokk7YeKj4e"
      },
      "execution_count": null,
      "outputs": []
    },
    {
      "cell_type": "code",
      "execution_count": null,
      "metadata": {
        "colab": {
          "base_uri": "https://localhost:8080/"
        },
        "id": "_dt8i913FUhI",
        "outputId": "81a6487f-a95a-49c6-af36-8f9a24dcd8df"
      },
      "outputs": [
        {
          "output_type": "stream",
          "name": "stdout",
          "text": [
            "Выберите функцию:\n",
            "\n",
            "1. Создать контакт\n",
            "2. Удалить контакт\n",
            "3. Показать список контактов\n",
            "4. Изменить номер\n",
            "5. Выход\n",
            "\n",
            "Введите номер функции:1\n",
            "Введите название для контакта:лена иванова\n",
            "Введите номер телефона:9161234567\n",
            "Контакт успешно добавлен!\n",
            "Введите номер функции:3\n",
            "Список контактов:\n",
            "Лена Иванова +79161234567\n",
            "Введите номер функции:4\n",
            "Введите название для контакта:лена иванова\n",
            "Введите номер телефона:9160002211\n",
            "Контакт успешно изменен!\n",
            "Введите номер функции:3\n",
            "Список контактов:\n",
            "Лена Иванова +79160002211\n",
            "Введите номер функции:2\n",
            "Введите имя контакта, который хотите удалить:лена иванова\n",
            "Контакт удален\n",
            "Введите номер функции:3\n",
            "Список контактов:\n",
            "Введите номер функции:5\n",
            "Выход из списка контактов!\n"
          ]
        }
      ],
      "source": [
        "list_of_contacts = {}\n",
        "print(\"Выберите функцию:\\n\", \"1. Создать контакт\", \"2. Удалить контакт\",\n",
        "        \"3. Показать список контактов\", \"4. Изменить номер\", \"5. Выход\\n\", sep=\"\\n\")\n",
        "while True:\n",
        "  command = input(\"Введите номер функции:\")\n",
        "  match command:\n",
        "    case \"1\":\n",
        "      name_input = input(\"Введите название для контакта:\")\n",
        "      name_input = name_input.title()\n",
        "      number_input = input(\"Введите номер телефона:\")\n",
        "      number_input = \"+7\" + number_input\n",
        "      list_of_contacts[name_input] = number_input\n",
        "      print(\"Контакт успешно добавлен!\")\n",
        "    case \"2\":\n",
        "      name_input = input(\"Введите имя контакта, который хотите удалить:\")\n",
        "      name_input = name_input.title()\n",
        "      list_of_contacts.pop(name_input)\n",
        "      print(\"Контакт удален\")\n",
        "    case \"3\":\n",
        "      print(\"Список контактов:\")\n",
        "      for k, v in list_of_contacts.items():\n",
        "        print(k, v)\n",
        "    case \"4\":\n",
        "      name_input = input(\"Введите название для контакта:\")\n",
        "      name_input = name_input.title()\n",
        "      number_input = input(\"Введите номер телефона:\")\n",
        "      number_input = \"+7\" + number_input\n",
        "      list_of_contacts[name_input] = number_input\n",
        "      print(\"Контакт успешно изменен!\")\n",
        "    case \"5\":\n",
        "      print(\"Выход из списка контактов!\")\n",
        "      break"
      ]
    }
  ]
}